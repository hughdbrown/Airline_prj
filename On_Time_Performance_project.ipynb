{
 "cells": [
  {
   "cell_type": "markdown",
   "metadata": {},
   "source": [
    "## On Time Performance Exploration\n",
    "## Samuel Sherman March 2016"
   ]
  },
  {
   "cell_type": "markdown",
   "metadata": {},
   "source": [
    "### Exploration"
   ]
  },
  {
   "cell_type": "code",
   "execution_count": 1,
   "metadata": {
    "collapsed": false
   },
   "outputs": [
    {
     "data": {
      "text/html": [
       "<div>\n",
       "<table border=\"1\" class=\"dataframe\">\n",
       "  <thead>\n",
       "    <tr style=\"text-align: right;\">\n",
       "      <th></th>\n",
       "      <th>index</th>\n",
       "      <th>Year</th>\n",
       "      <th>DayofMonth</th>\n",
       "      <th>DayOfWeek</th>\n",
       "      <th>FlightDate</th>\n",
       "      <th>UniqueCarrier</th>\n",
       "      <th>Origin</th>\n",
       "      <th>OriginCityName</th>\n",
       "      <th>OriginStateName</th>\n",
       "      <th>Dest</th>\n",
       "      <th>...</th>\n",
       "      <th>ArrDel15</th>\n",
       "      <th>Cancelled</th>\n",
       "      <th>Diverted</th>\n",
       "      <th>AirTime</th>\n",
       "      <th>Distance</th>\n",
       "      <th>CarrierDelay</th>\n",
       "      <th>WeatherDelay</th>\n",
       "      <th>NASDelay</th>\n",
       "      <th>SecurityDelay</th>\n",
       "      <th>LateAircraftDelay</th>\n",
       "    </tr>\n",
       "  </thead>\n",
       "  <tbody>\n",
       "    <tr>\n",
       "      <th>0</th>\n",
       "      <td>0</td>\n",
       "      <td>2013</td>\n",
       "      <td>3</td>\n",
       "      <td>6</td>\n",
       "      <td>2013-08-03</td>\n",
       "      <td>9E</td>\n",
       "      <td>AUS</td>\n",
       "      <td>Austin, TX</td>\n",
       "      <td>Texas</td>\n",
       "      <td>SLC</td>\n",
       "      <td>...</td>\n",
       "      <td>0</td>\n",
       "      <td>0</td>\n",
       "      <td>0</td>\n",
       "      <td>136</td>\n",
       "      <td>1086</td>\n",
       "      <td>NaN</td>\n",
       "      <td>NaN</td>\n",
       "      <td>NaN</td>\n",
       "      <td>NaN</td>\n",
       "      <td>NaN</td>\n",
       "    </tr>\n",
       "    <tr>\n",
       "      <th>1</th>\n",
       "      <td>1</td>\n",
       "      <td>2013</td>\n",
       "      <td>10</td>\n",
       "      <td>6</td>\n",
       "      <td>2013-08-10</td>\n",
       "      <td>9E</td>\n",
       "      <td>AUS</td>\n",
       "      <td>Austin, TX</td>\n",
       "      <td>Texas</td>\n",
       "      <td>SLC</td>\n",
       "      <td>...</td>\n",
       "      <td>0</td>\n",
       "      <td>0</td>\n",
       "      <td>0</td>\n",
       "      <td>141</td>\n",
       "      <td>1086</td>\n",
       "      <td>NaN</td>\n",
       "      <td>NaN</td>\n",
       "      <td>NaN</td>\n",
       "      <td>NaN</td>\n",
       "      <td>NaN</td>\n",
       "    </tr>\n",
       "    <tr>\n",
       "      <th>2</th>\n",
       "      <td>2</td>\n",
       "      <td>2013</td>\n",
       "      <td>17</td>\n",
       "      <td>6</td>\n",
       "      <td>2013-08-17</td>\n",
       "      <td>9E</td>\n",
       "      <td>AUS</td>\n",
       "      <td>Austin, TX</td>\n",
       "      <td>Texas</td>\n",
       "      <td>SLC</td>\n",
       "      <td>...</td>\n",
       "      <td>0</td>\n",
       "      <td>0</td>\n",
       "      <td>0</td>\n",
       "      <td>145</td>\n",
       "      <td>1086</td>\n",
       "      <td>NaN</td>\n",
       "      <td>NaN</td>\n",
       "      <td>NaN</td>\n",
       "      <td>NaN</td>\n",
       "      <td>NaN</td>\n",
       "    </tr>\n",
       "    <tr>\n",
       "      <th>3</th>\n",
       "      <td>3</td>\n",
       "      <td>2013</td>\n",
       "      <td>18</td>\n",
       "      <td>7</td>\n",
       "      <td>2013-08-18</td>\n",
       "      <td>9E</td>\n",
       "      <td>DFW</td>\n",
       "      <td>Dallas/Fort Worth, TX</td>\n",
       "      <td>Texas</td>\n",
       "      <td>DTW</td>\n",
       "      <td>...</td>\n",
       "      <td>0</td>\n",
       "      <td>0</td>\n",
       "      <td>0</td>\n",
       "      <td>129</td>\n",
       "      <td>986</td>\n",
       "      <td>NaN</td>\n",
       "      <td>NaN</td>\n",
       "      <td>NaN</td>\n",
       "      <td>NaN</td>\n",
       "      <td>NaN</td>\n",
       "    </tr>\n",
       "    <tr>\n",
       "      <th>4</th>\n",
       "      <td>4</td>\n",
       "      <td>2013</td>\n",
       "      <td>1</td>\n",
       "      <td>4</td>\n",
       "      <td>2013-08-01</td>\n",
       "      <td>9E</td>\n",
       "      <td>MEM</td>\n",
       "      <td>Memphis, TN</td>\n",
       "      <td>Tennessee</td>\n",
       "      <td>DTW</td>\n",
       "      <td>...</td>\n",
       "      <td>0</td>\n",
       "      <td>0</td>\n",
       "      <td>0</td>\n",
       "      <td>93</td>\n",
       "      <td>610</td>\n",
       "      <td>NaN</td>\n",
       "      <td>NaN</td>\n",
       "      <td>NaN</td>\n",
       "      <td>NaN</td>\n",
       "      <td>NaN</td>\n",
       "    </tr>\n",
       "  </tbody>\n",
       "</table>\n",
       "<p>5 rows × 29 columns</p>\n",
       "</div>"
      ],
      "text/plain": [
       "   index  Year  DayofMonth  DayOfWeek  FlightDate UniqueCarrier Origin  \\\n",
       "0      0  2013           3          6  2013-08-03            9E    AUS   \n",
       "1      1  2013          10          6  2013-08-10            9E    AUS   \n",
       "2      2  2013          17          6  2013-08-17            9E    AUS   \n",
       "3      3  2013          18          7  2013-08-18            9E    DFW   \n",
       "4      4  2013           1          4  2013-08-01            9E    MEM   \n",
       "\n",
       "          OriginCityName OriginStateName Dest        ...         ArrDel15  \\\n",
       "0             Austin, TX           Texas  SLC        ...                0   \n",
       "1             Austin, TX           Texas  SLC        ...                0   \n",
       "2             Austin, TX           Texas  SLC        ...                0   \n",
       "3  Dallas/Fort Worth, TX           Texas  DTW        ...                0   \n",
       "4            Memphis, TN       Tennessee  DTW        ...                0   \n",
       "\n",
       "  Cancelled  Diverted  AirTime  Distance  CarrierDelay  WeatherDelay  \\\n",
       "0         0         0      136      1086           NaN           NaN   \n",
       "1         0         0      141      1086           NaN           NaN   \n",
       "2         0         0      145      1086           NaN           NaN   \n",
       "3         0         0      129       986           NaN           NaN   \n",
       "4         0         0       93       610           NaN           NaN   \n",
       "\n",
       "   NASDelay  SecurityDelay  LateAircraftDelay  \n",
       "0       NaN            NaN                NaN  \n",
       "1       NaN            NaN                NaN  \n",
       "2       NaN            NaN                NaN  \n",
       "3       NaN            NaN                NaN  \n",
       "4       NaN            NaN                NaN  \n",
       "\n",
       "[5 rows x 29 columns]"
      ]
     },
     "execution_count": 1,
     "metadata": {},
     "output_type": "execute_result"
    }
   ],
   "source": [
    "import pandas as pd\n",
    "import numpy as np\n",
    "import matplotlib.pyplot as plt\n",
    "%matplotlib inline\n",
    "\n",
    "def read_and_select():\n",
    "    #read as dataframes\n",
    "    OTP_2013 = pd.read_csv(\"/Users/scsherm/Documents/CA/On_Time_On_Time_Performance_2013_8.csv\", low_memory=False)\n",
    "    OTP_2014 = pd.read_csv(\"/Users/scsherm/Documents/CA/On_Time_On_Time_Performance_2014_8.csv\", low_memory=False)\n",
    "    OTP_2015 = pd.read_csv(\"/Users/scsherm/Documents/CA/On_Time_On_Time_Performance_2015_8.csv\", low_memory=False)\n",
    "    \n",
    "    #concatenate\n",
    "    dframes = [OTP_2013, OTP_2014, OTP_2015]\n",
    "    OTP = pd.concat(dframes)\n",
    "    \n",
    "    #select fields\n",
    "    OTP = OTP[['Year', 'DayofMonth', 'DayOfWeek', 'FlightDate',\n",
    "       'UniqueCarrier','Origin', 'OriginCityName','OriginStateName', 'Dest', 'DestCityName',\n",
    "       'DestStateName', 'DepDelay', 'DepDelayMinutes', 'DepDel15',\n",
    "       'TaxiOut', 'TaxiIn','ArrDelay','ArrDelayMinutes', 'ArrDel15', \n",
    "       'Cancelled', 'Diverted', 'AirTime', 'Distance',\n",
    "       'CarrierDelay', 'WeatherDelay', 'NASDelay',\n",
    "       'SecurityDelay', 'LateAircraftDelay']]\n",
    "    OTP.reset_index(inplace = True)\n",
    "    return OTP, OTP_2013, OTP_2014, OTP_2015\n",
    "\n",
    "OTP, OTP_2013, OTP_2014, OTP_2015 = read_and_select()\n",
    "OTP.head()\n"
   ]
  },
  {
   "cell_type": "markdown",
   "metadata": {},
   "source": [
    "I excluded a fair amount of the fields. I included what I thought to be relevant towards my examination. There are clearly going to be certain attributes that are directly correlated to others, such as ArrDelay to DepDelay. However, I am looking to derive out unforeseen information in data and not what is completely apparent. I excluded all of the diverted aircraft information because, in my mind, it is too extensive, very sparse and could be considered leakage.  "
   ]
  },
  {
   "cell_type": "code",
   "execution_count": 2,
   "metadata": {
    "collapsed": false
   },
   "outputs": [
    {
     "data": {
      "text/plain": [
       "pandas.tslib.Timestamp"
      ]
     },
     "execution_count": 2,
     "metadata": {},
     "output_type": "execute_result"
    }
   ],
   "source": [
    "OTP['FlightDate'] = pd.to_datetime(OTP['FlightDate'], format = '%Y-%m-%d')\n",
    "type(OTP.FlightDate[0])"
   ]
  },
  {
   "cell_type": "code",
   "execution_count": 3,
   "metadata": {
    "collapsed": false,
    "scrolled": true
   },
   "outputs": [
    {
     "data": {
      "text/html": [
       "<iframe id=\"igraph\" scrolling=\"no\" style=\"border:none;\"seamless=\"seamless\" src=\"https://plot.ly/~scsherm/8.embed\" height=\"525px\" width=\"100%\"></iframe>"
      ],
      "text/plain": [
       "<plotly.tools.PlotlyDisplay object>"
      ]
     },
     "execution_count": 3,
     "metadata": {},
     "output_type": "execute_result"
    }
   ],
   "source": [
    "import plotly.plotly as py\n",
    "import plotly.graph_objs as go\n",
    "import plotly.tools as tls\n",
    "py.sign_in('scsherm', 'ml0wer7f1s')\n",
    "\n",
    "delays_by_carrier = OTP.groupby(['UniqueCarrier'])['ArrDelay'].mean()\n",
    "delays_by_carrier.sort_values(ascending = False, inplace = True)\n",
    "\n",
    "data = [\n",
    "    go.Bar(\n",
    "        x=delays_by_carrier.index.values,\n",
    "        y=delays_by_carrier.values\n",
    "    )\n",
    "]\n",
    "\n",
    "layout = go.Layout(\n",
    "    title='Mean Delays By Carrier',\n",
    "    xaxis=dict(\n",
    "        title='Carrier',\n",
    "        titlefont=dict(\n",
    "            family='Courier New, monospace',\n",
    "            size=18,\n",
    "            color='#7f7f7f'\n",
    "        )\n",
    "    ),\n",
    "    yaxis=dict(\n",
    "        title='Mean Delays in Minutes',\n",
    "        titlefont=dict(\n",
    "            family='Courier New, monospace',\n",
    "            size=18,\n",
    "            color='#7f7f7f'\n",
    "        )\n",
    "    )\n",
    ")\n",
    "\n",
    "fig_carrierDelays = go.Figure(data=data, layout=layout)\n",
    "py.iplot(fig_carrierDelays, strip_style = True, filename='ArrDelay-bar')\n"
   ]
  },
  {
   "cell_type": "markdown",
   "metadata": {},
   "source": [
    "This is a graph of the mean delays per unique carrier. The airline Spirit (NK) has quite a significant amount of delays. Almost double that of the second biggest airline for delays, Frontier (F9). "
   ]
  },
  {
   "cell_type": "code",
   "execution_count": 4,
   "metadata": {
    "collapsed": false
   },
   "outputs": [
    {
     "data": {
      "text/html": [
       "<iframe id=\"igraph\" scrolling=\"no\" style=\"border:none;\"seamless=\"seamless\" src=\"https://plot.ly/~scsherm/48.embed\" height=\"525px\" width=\"100%\"></iframe>"
      ],
      "text/plain": [
       "<plotly.tools.PlotlyDisplay object>"
      ]
     },
     "execution_count": 4,
     "metadata": {},
     "output_type": "execute_result"
    }
   ],
   "source": [
    "num_flights_per_carrier = OTP.groupby(['UniqueCarrier'])['Year'].count()\n",
    "num_flights_per_carrier.sort_values(ascending = False, inplace = True)\n",
    "\n",
    "data2 = [\n",
    "    go.Bar(\n",
    "        x=num_flights_per_carrier.index.values,\n",
    "        y=num_flights_per_carrier.values\n",
    "    )\n",
    "]\n",
    "\n",
    "layout2 = go.Layout(\n",
    "    title='Number of Flights per Carrier',\n",
    "    xaxis=dict(\n",
    "        title='Carrier',\n",
    "        titlefont=dict(\n",
    "            family='Courier New, monospace',\n",
    "            size=18,\n",
    "            color='#7f7f7f'\n",
    "        )\n",
    "    ),\n",
    "    yaxis=dict(\n",
    "        title='Number of Flights',\n",
    "        titlefont=dict(\n",
    "            family='Courier New, monospace',\n",
    "            size=18,\n",
    "            color='#7f7f7f'\n",
    "        )\n",
    "    )\n",
    ")\n",
    "\n",
    "fig_carrierCount = go.Figure(data=data2, layout=layout2)\n",
    "py.iplot(fig_carrierCount, filename='Counts-bar')"
   ]
  },
  {
   "cell_type": "markdown",
   "metadata": {},
   "source": [
    "Here, I am counting the number of data points per carrier as for comparison to the mean delays per carrier. What I find particularly interesting is that Delta Airlines (DL) has the second largest amount of flights, yet remains on the low end for its average delays. This might imply that it is a good airline for on time performance. At least for the month of August. Additionally, Spirit Airlines (NK) has the least number of flights, yet the highest mean delay time. Spirit Airlines appears to NOT be performing well at all."
   ]
  },
  {
   "cell_type": "code",
   "execution_count": 5,
   "metadata": {
    "collapsed": false
   },
   "outputs": [
    {
     "data": {
      "text/html": [
       "<iframe id=\"igraph\" scrolling=\"no\" style=\"border:none;\"seamless=\"seamless\" src=\"https://plot.ly/~scsherm/34.embed\" height=\"525px\" width=\"100%\"></iframe>"
      ],
      "text/plain": [
       "<plotly.tools.PlotlyDisplay object>"
      ]
     },
     "execution_count": 5,
     "metadata": {},
     "output_type": "execute_result"
    }
   ],
   "source": [
    "delays_by_carrier_ts2013 = OTP_2013.groupby(['UniqueCarrier', 'FlightDate'], as_index=False)['ArrDelayMinutes'].mean()\n",
    "\n",
    "data = []\n",
    "for carrier in delays_by_carrier_ts2013.UniqueCarrier.unique():\n",
    "    dat = delays_by_carrier_ts2013.query('UniqueCarrier == @carrier')\n",
    "    ts = go.Scatter(x = dat.FlightDate, y = dat.ArrDelayMinutes, mode = 'lines', name = carrier)\n",
    "    data.append(ts)\n",
    "    \n",
    "layout3 = go.Layout(\n",
    "    title='Mean Delays per Carrier Over Time',\n",
    "    xaxis=dict(\n",
    "        title='Day',\n",
    "        titlefont=dict(\n",
    "            family='Courier New, monospace',\n",
    "            size=18,\n",
    "            color='#7f7f7f'\n",
    "        )\n",
    "    ),\n",
    "    yaxis=dict(\n",
    "        title='Mean Delays',\n",
    "        titlefont=dict(\n",
    "            family='Courier New, monospace',\n",
    "            size=18,\n",
    "            color='#7f7f7f'\n",
    "        )\n",
    "    )\n",
    ")\n",
    "fig_Del_Over_Time = go.Figure(data=data, layout=layout3)    \n",
    "py.iplot(fig_Del_Over_Time, filename='delays_over_time')"
   ]
  },
  {
   "cell_type": "markdown",
   "metadata": {},
   "source": [
    "Here, I am examining the mean delays over time for the month of August in 2013. The graph is a little messy but there appears to be some sort of cyclical pattern in how the delays are occuring. Also, these patterns seems to be consistent accross different airlines and could therefore suggest that an event occured. For example, on August 22nd there seems to be some sort of event that triggered delays across all the airlines. "
   ]
  },
  {
   "cell_type": "markdown",
   "metadata": {},
   "source": [
    "### Outliers"
   ]
  },
  {
   "cell_type": "code",
   "execution_count": 6,
   "metadata": {
    "collapsed": false,
    "scrolled": true
   },
   "outputs": [
    {
     "data": {
      "text/html": [
       "<iframe id=\"igraph\" scrolling=\"no\" style=\"border:none;\"seamless=\"seamless\" src=\"https://plot.ly/~scsherm/92.embed\" height=\"1000px\" width=\"1000px\"></iframe>"
      ],
      "text/plain": [
       "<plotly.tools.PlotlyDisplay object>"
      ]
     },
     "execution_count": 6,
     "metadata": {},
     "output_type": "execute_result"
    }
   ],
   "source": [
    "#origin destination matrix with sum of ArrDelayMinutes\n",
    "origin_dest_mat = OTP.pivot_table(index = 'OriginStateName', columns = 'DestStateName', values = 'ArrDelayMinutes', \n",
    "                                  aggfunc='sum')\n",
    "data = [go.Heatmap(\n",
    "        x = origin_dest_mat.columns.values,\n",
    "        y = origin_dest_mat.index.values,\n",
    "        z = origin_dest_mat.values,\n",
    "        autocolorscale = False,\n",
    "        colorscale=[[0, 'rgb(220,220,220)'], [0.2, 'rgb(245,195,157)'], [0.4, 'rgb(245,160,105)'], \n",
    "                    [1, 'rgb(178,10,28)']])]\n",
    "\n",
    "layout = go.Layout(\n",
    "    autosize=False,\n",
    "    barmode='overlay',\n",
    "    height=1000,\n",
    "    title='Total Delay By Origin State and Destination State (No Early Arrivals)',\n",
    "    width=1000)\n",
    "\n",
    "fig = go.Figure(data=data, layout=layout)\n",
    "py.iplot(fig)"
   ]
  },
  {
   "cell_type": "code",
   "execution_count": 7,
   "metadata": {
    "collapsed": false
   },
   "outputs": [
    {
     "data": {
      "text/plain": [
       "567658     1196\n",
       "492425      542\n",
       "835864      523\n",
       "485226      498\n",
       "1221637     488\n",
       "926286      485\n",
       "873077      467\n",
       "444357      460\n",
       "482860      429\n",
       "535459      417\n",
       "Name: ArrDelay, dtype: float64"
      ]
     },
     "execution_count": 7,
     "metadata": {},
     "output_type": "execute_result"
    }
   ],
   "source": [
    "CA = OTP.query('OriginStateName == \"California\" & DestStateName == \"California\"')\n",
    "CA_ArrDelay = CA.ArrDelay\n",
    "CA_ArrDelay = CA_ArrDelay.copy()\n",
    "CA_ArrDelay.sort_values(ascending = False, inplace = True)\n",
    "CA_ArrDelay[:10]"
   ]
  },
  {
   "cell_type": "code",
   "execution_count": 8,
   "metadata": {
    "collapsed": false
   },
   "outputs": [
    {
     "data": {
      "text/plain": [
       "588737     1125\n",
       "1343575     706\n",
       "1073166     643\n",
       "1099967     626\n",
       "932306      609\n",
       "1049857     559\n",
       "1529612     543\n",
       "1073397     499\n",
       "225209      456\n",
       "1321063     450\n",
       "Name: ArrDelay, dtype: float64"
      ]
     },
     "execution_count": 8,
     "metadata": {},
     "output_type": "execute_result"
    }
   ],
   "source": [
    "TX = OTP.query('OriginStateName == \"Texas\" & DestStateName == \"Texas\"')\n",
    "TX_ArrDelay = TX.ArrDelay\n",
    "TX_ArrDelay = TX_ArrDelay.copy()\n",
    "TX_ArrDelay.sort_values(ascending = False, inplace = True)\n",
    "TX_ArrDelay[:10]"
   ]
  },
  {
   "cell_type": "code",
   "execution_count": 9,
   "metadata": {
    "collapsed": false
   },
   "outputs": [
    {
     "data": {
      "text/plain": [
       "index                               4737\n",
       "Year                                2014\n",
       "DayofMonth                            28\n",
       "DayOfWeek                              4\n",
       "FlightDate           2014-08-28 00:00:00\n",
       "UniqueCarrier                         AA\n",
       "Origin                               SFO\n",
       "OriginCityName         San Francisco, CA\n",
       "OriginStateName               California\n",
       "Dest                                 LAX\n",
       "DestCityName             Los Angeles, CA\n",
       "DestStateName                 California\n",
       "DepDelay                            1166\n",
       "DepDelayMinutes                     1166\n",
       "DepDel15                               1\n",
       "TaxiOut                               48\n",
       "TaxiIn                                10\n",
       "ArrDelay                            1196\n",
       "ArrDelayMinutes                     1196\n",
       "ArrDel15                               1\n",
       "Cancelled                              0\n",
       "Diverted                               0\n",
       "AirTime                               57\n",
       "Distance                             337\n",
       "CarrierDelay                        1097\n",
       "WeatherDelay                           0\n",
       "NASDelay                              30\n",
       "SecurityDelay                          0\n",
       "LateAircraftDelay                     69\n",
       "Name: 567658, dtype: object"
      ]
     },
     "execution_count": 9,
     "metadata": {},
     "output_type": "execute_result"
    }
   ],
   "source": [
    "OTP.iloc[567658,:]"
   ]
  },
  {
   "cell_type": "code",
   "execution_count": 10,
   "metadata": {
    "collapsed": false
   },
   "outputs": [
    {
     "data": {
      "text/plain": [
       "index                                25816\n",
       "Year                                  2014\n",
       "DayofMonth                              19\n",
       "DayOfWeek                                2\n",
       "FlightDate             2014-08-19 00:00:00\n",
       "UniqueCarrier                           AA\n",
       "Origin                                 IAH\n",
       "OriginCityName                 Houston, TX\n",
       "OriginStateName                      Texas\n",
       "Dest                                   DFW\n",
       "DestCityName         Dallas/Fort Worth, TX\n",
       "DestStateName                        Texas\n",
       "DepDelay                              1116\n",
       "DepDelayMinutes                       1116\n",
       "DepDel15                                 1\n",
       "TaxiOut                                 27\n",
       "TaxiIn                                   7\n",
       "ArrDelay                              1125\n",
       "ArrDelayMinutes                       1125\n",
       "ArrDel15                                 1\n",
       "Cancelled                                0\n",
       "Diverted                                 0\n",
       "AirTime                                 45\n",
       "Distance                               224\n",
       "CarrierDelay                          1090\n",
       "WeatherDelay                             0\n",
       "NASDelay                                 9\n",
       "SecurityDelay                            0\n",
       "LateAircraftDelay                       26\n",
       "Name: 588737, dtype: object"
      ]
     },
     "execution_count": 10,
     "metadata": {},
     "output_type": "execute_result"
    }
   ],
   "source": [
    "OTP.iloc[588737,:]"
   ]
  },
  {
   "cell_type": "markdown",
   "metadata": {},
   "source": [
    "From the graph above, I find particular interest in examining the flights from CA to CA and from TX to TX. Upon further examination of these flights, two particularly interesting events stand out as outliers. For each group of flight data, I sorted the flights by the Arrival Delay. In both situations you can notice a steady increase of the delays until the last value, which is almost doubled the value before it. These both stand out as odd instances, especially because the flight time is under an hour and the delay is almost twenty hours. The main cause appears to be carrier delay, but I would imagine this was an after effect from the late aircraft delay.   "
   ]
  },
  {
   "cell_type": "code",
   "execution_count": 11,
   "metadata": {
    "collapsed": false
   },
   "outputs": [
    {
     "data": {
      "text/html": [
       "<iframe id=\"igraph\" scrolling=\"no\" style=\"border:none;\"seamless=\"seamless\" src=\"https://plot.ly/~scsherm/94.embed\" height=\"1000px\" width=\"1000px\"></iframe>"
      ],
      "text/plain": [
       "<plotly.tools.PlotlyDisplay object>"
      ]
     },
     "execution_count": 11,
     "metadata": {},
     "output_type": "execute_result"
    }
   ],
   "source": [
    "#origin destination matrix with sum of ArrDelayMinutes\n",
    "origin_dest_mat = OTP.pivot_table(index = 'OriginStateName', columns = 'DestStateName', values = 'ArrDelayMinutes', \n",
    "                                  aggfunc='mean')\n",
    "data = [go.Heatmap(\n",
    "        x = origin_dest_mat.columns.values,\n",
    "        y = origin_dest_mat.index.values,\n",
    "        z = origin_dest_mat.values,\n",
    "        autocolorscale = False,\n",
    "        colorscale=[[0, 'rgb(220,220,220)'], [0.2, 'rgb(245,195,157)'], [0.4, 'rgb(245,160,105)'], \n",
    "                    [1, 'rgb(178,10,28)']])]\n",
    "\n",
    "layout = go.Layout(\n",
    "    autosize=False,\n",
    "    barmode='overlay',\n",
    "    height=1000,\n",
    "    title='Mean Delay By Origin State and Destination State (No Early Arrivals)',\n",
    "    width=1000)\n",
    "\n",
    "fig = go.Figure(data=data, layout=layout)\n",
    "py.iplot(fig)"
   ]
  },
  {
   "cell_type": "code",
   "execution_count": 12,
   "metadata": {
    "collapsed": false
   },
   "outputs": [
    {
     "data": {
      "text/plain": [
       "1384337    148\n",
       "Name: ArrDelay, dtype: float64"
      ]
     },
     "execution_count": 12,
     "metadata": {},
     "output_type": "execute_result"
    }
   ],
   "source": [
    "MO = OTP.query('OriginStateName == \"Montana\" & DestStateName == \"Montana\"')\n",
    "MO_ArrDelay = MO.ArrDelay\n",
    "MO_ArrDelay = MO_ArrDelay.copy()\n",
    "MO_ArrDelay.sort_values(ascending = False, inplace = True)\n",
    "MO_ArrDelay[:10]"
   ]
  },
  {
   "cell_type": "code",
   "execution_count": 13,
   "metadata": {
    "collapsed": false
   },
   "outputs": [
    {
     "data": {
      "text/plain": [
       "1377070    70\n",
       "Name: ArrDelay, dtype: float64"
      ]
     },
     "execution_count": 13,
     "metadata": {},
     "output_type": "execute_result"
    }
   ],
   "source": [
    "SC_OK = OTP.query('OriginStateName == \"South Carolina\" & DestStateName == \"Oklahoma\"')\n",
    "SC_OK_ArrDelay = SC_OK.ArrDelay\n",
    "SC_OK_ArrDelay = SC_OK_ArrDelay.copy()\n",
    "SC_OK_ArrDelay.sort_values(ascending = False, inplace = True)\n",
    "SC_OK_ArrDelay[:10]"
   ]
  },
  {
   "cell_type": "markdown",
   "metadata": {},
   "source": [
    "Two more identified outliers here. The average arrival delay is plotted above with a heatmap of the origin state and destination state. This graph highlights the MO to MO location and the SC to OK locations. However, after examining the data further, it can be seen that both instances have only one data point for these locations. The mean is equivalent to the actual value and thus, the locations stand out for only one recorded arrival delay."
   ]
  },
  {
   "cell_type": "markdown",
   "metadata": {},
   "source": [
    "### Statistical Breakdown of Features"
   ]
  },
  {
   "cell_type": "code",
   "execution_count": 14,
   "metadata": {
    "collapsed": true
   },
   "outputs": [],
   "source": [
    "OTP_model = OTP[['Year', 'DayofMonth', 'DayOfWeek', 'UniqueCarrier', 'DepDelay', \n",
    "                 'TaxiOut', 'ArrDelay', 'Cancelled', 'Diverted', 'Distance', \n",
    "                 'CarrierDelay', 'WeatherDelay', 'NASDelay',\n",
    "                 'SecurityDelay', 'LateAircraftDelay']]"
   ]
  },
  {
   "cell_type": "markdown",
   "metadata": {},
   "source": [
    "Here, I have selected a certain set of features from the dataset that I would not consider to be leakage. However, this is very ambiguous. If my end goal was to predict arrival delay, as a continuous variable, leakage is largely dependent on when I am willing to allow the arrival delay to be predicted. In this case, I am choosing to allow arrival delay to be predicted in flight. Therefore, items such as \"airtime\" and \"taxi in\" would be considered to be leakage, as they would not be known until later.    "
   ]
  },
  {
   "cell_type": "code",
   "execution_count": 15,
   "metadata": {
    "collapsed": false
   },
   "outputs": [],
   "source": [
    "#Dummies for categorical variables\n",
    "#Create dummies for UniqueCarrier\n",
    "OTPcorr = pd.concat([OTP_model, pd.get_dummies(OTP_model.UniqueCarrier)], axis = 1)\n",
    "OTPcorr.drop('9E', axis = 1, inplace = True)\n",
    "OTPcorr.drop('UniqueCarrier', axis = 1, inplace = True)\n",
    "\n",
    "#Create dummies for year\n",
    "OTPcorr = pd.concat([OTPcorr, pd.get_dummies(OTPcorr.Year)], axis = 1)\n",
    "OTPcorr.drop(2013, axis = 1, inplace = True)\n",
    "OTPcorr.drop('Year', axis = 1, inplace = True)\n",
    "\n",
    "#Create dummies for Day of Month\n",
    "OTPcorr = pd.concat([OTPcorr, pd.get_dummies(OTPcorr.DayofMonth)], axis = 1)\n",
    "OTPcorr.drop(1, axis = 1, inplace = True)\n",
    "OTPcorr.drop('DayofMonth', axis = 1, inplace = True)\n",
    "\n",
    "#Create dummies for Day of Week\n",
    "OTPcorr = pd.concat([OTPcorr, pd.get_dummies(OTPcorr.DayOfWeek)], axis = 1)\n",
    "OTPcorr.drop(1, axis = 1, inplace = True)\n",
    "OTPcorr.drop('DayOfWeek', axis = 1, inplace = True)"
   ]
  },
  {
   "cell_type": "code",
   "execution_count": 16,
   "metadata": {
    "collapsed": true
   },
   "outputs": [],
   "source": [
    "#Normalize and fill na values\n",
    "y = OTPcorr.pop('ArrDelay')\n",
    "y.fillna(0, inplace  = True)\n",
    "y = y.values\n",
    "OTPcorr.fillna(-1, inplace = True)\n",
    "X = OTPcorr.apply(lambda x: (x-np.mean(x)) / np.std(x))"
   ]
  },
  {
   "cell_type": "code",
   "execution_count": 17,
   "metadata": {
    "collapsed": false
   },
   "outputs": [
    {
     "data": {
      "text/plain": [
       "LinearRegression(copy_X=True, fit_intercept=True, n_jobs=1, normalize=False)"
      ]
     },
     "execution_count": 17,
     "metadata": {},
     "output_type": "execute_result"
    }
   ],
   "source": [
    "#Fit model\n",
    "from sklearn import linear_model\n",
    "from sklearn.cross_validation import train_test_split\n",
    "\n",
    "X_train, X_test, y_train, y_test = train_test_split(X, y, test_size = 0.2, random_state = 2)\n",
    "lm = linear_model.LinearRegression()\n",
    "lm.fit(X_train, y_train)"
   ]
  },
  {
   "cell_type": "code",
   "execution_count": 18,
   "metadata": {
    "collapsed": false
   },
   "outputs": [
    {
     "data": {
      "text/html": [
       "<iframe id=\"igraph\" scrolling=\"no\" style=\"border:none;\"seamless=\"seamless\" src=\"https://plot.ly/~scsherm/62.embed\" height=\"2000px\" width=\"100%\"></iframe>"
      ],
      "text/plain": [
       "<plotly.tools.PlotlyDisplay object>"
      ]
     },
     "execution_count": 18,
     "metadata": {},
     "output_type": "execute_result"
    }
   ],
   "source": [
    "from plotly.tools import FigureFactory as FF \n",
    "\n",
    "df = pd.DataFrame(OTPcorr.columns.values)\n",
    "df['Beta_coefficients'] = lm.coef_\n",
    "df.rename(columns = {0:'Feature'}, inplace = True)\n",
    "\n",
    "table = FF.create_table(df)\n",
    "py.iplot(table, filename='coef_table')"
   ]
  },
  {
   "cell_type": "markdown",
   "metadata": {},
   "source": [
    "This appears to be consistent with what I would have suspected. The different types of delay are most predictive of the arrival delay, with Carrier Delay having the most weight. For every unit increase in Carrier Delay you can expect an extra 13.3 minutes in Arrival Delay, holding all other variables constant. What is interesting is that the distance traveled has a negative correlation. That is, for every unit increase in distance, you can expect 1.1 LESS minutes in arrival delay, holding all other variables constant. I would imagine this is because there is more time to make up for a delay by traveling faster. Also, SouthWest airlines was slightly predictive with a beta coefficient of 2.4."
   ]
  },
  {
   "cell_type": "code",
   "execution_count": 6,
   "metadata": {
    "collapsed": false
   },
   "outputs": [
    {
     "data": {
      "image/png": "[encoded data removed]",
      "text/plain": [
       "<matplotlib.figure.Figure at 0x134b81150>"
      ]
     },
     "metadata": {},
     "output_type": "display_data"
    }
   ],
   "source": [
    "#Model for partial dependency plots\n",
    "from sklearn.ensemble.partial_dependence import plot_partial_dependence\n",
    "from sklearn.ensemble.partial_dependence import partial_dependence\n",
    "from sklearn.ensemble import GradientBoostingRegressor\n",
    "import matplotlib.pyplot as plt\n",
    "\n",
    "GBr = GradientBoostingRegressor(n_estimators=100, max_depth=4,\n",
    "                                learning_rate=0.1, loss='huber',\n",
    "                                random_state=2)\n",
    "GBr.fit(X_train, y_train)\n",
    "\n",
    "selected_features = OTPcorr.columns.values\n",
    "features = [0,4,5] #DepDelay, Distance, CarrierDelay\n",
    "fig, axs = plot_partial_dependence(GBr, X_train, features, feature_names = selected_features,\n",
    "                                   n_jobs = -1, grid_resolution = 100)\n",
    "fig.suptitle('Partial dependence of OTP features')\n",
    "plt.show()\n"
   ]
  },
  {
   "cell_type": "markdown",
   "metadata": {},
   "source": [
    "I built a really simple model for the soul purpose of further examination of features through partial dependence. I did not fine tune or grid search this model, as I had no intent of making predictions. I made three partial dependence plots for DepDelay, Distance, and CarrierDelay. It can be seen that when holding higher values constant accross the DepDelay feature, you will see much higher predictions in Arrival Delay. Also, for the Distance feature you can see a negative correlation. As higher values are held constant, you start to see lower predictions. CarrierDelay has weight, as interpreted from the beta coefficient. However, the range of values present in the dataset is not extensive enough to present something meaningful in this plot.  "
   ]
  },
  {
   "cell_type": "code",
   "execution_count": 21,
   "metadata": {
    "collapsed": false
   },
   "outputs": [
    {
     "data": {
      "text/html": [
       "<style>\n",
       "\n",
       "html {\n",
       "  font-size: 62.5% !important; }\n",
       "body {\n",
       "  font-size: 1.5em !important; /* currently ems cause chrome bug misinterpreting rems on body element */\n",
       "  line-height: 1.6 !important;\n",
       "  font-weight: 400 !important;\n",
       "  font-family: \"Raleway\", \"HelveticaNeue\", \"Helvetica Neue\", Helvetica, Arial, sans-serif !important;\n",
       "  color: #222 !important; }\n",
       "\n",
       "div{ border-radius: 0px !important;  }\n",
       "div.CodeMirror-sizer{ background: rgb(244, 244, 248) !important; }\n",
       "div.input_area{ background: rgb(244, 244, 248) !important; }\n",
       "\n",
       "div.out_prompt_overlay:hover{ background: rgb(244, 244, 248) !important; }\n",
       "div.input_prompt:hover{ background: rgb(244, 244, 248) !important; }\n",
       "\n",
       "h1, h2, h3, h4, h5, h6 {\n",
       "  color: #333 !important;\n",
       "  margin-top: 0 !important;\n",
       "  margin-bottom: 2rem !important;\n",
       "  font-weight: 300 !important; }\n",
       "h1 { font-size: 4.0rem !important; line-height: 1.2 !important;  letter-spacing: -.1rem !important;}\n",
       "h2 { font-size: 3.6rem !important; line-height: 1.25 !important; letter-spacing: -.1rem !important; }\n",
       "h3 { font-size: 3.0rem !important; line-height: 1.3 !important;  letter-spacing: -.1rem !important; }\n",
       "h4 { font-size: 2.4rem !important; line-height: 1.35 !important; letter-spacing: -.08rem !important; }\n",
       "h5 { font-size: 1.8rem !important; line-height: 1.5 !important;  letter-spacing: -.05rem !important; }\n",
       "h6 { font-size: 1.5rem !important; line-height: 1.6 !important;  letter-spacing: 0 !important; }\n",
       "\n",
       "@media (min-width: 550px) {\n",
       "  h1 { font-size: 5.0rem !important; }\n",
       "  h2 { font-size: 4.2rem !important; }\n",
       "  h3 { font-size: 3.6rem !important; }\n",
       "  h4 { font-size: 3.0rem !important; }\n",
       "  h5 { font-size: 2.4rem !important; }\n",
       "  h6 { font-size: 1.5rem !important; }\n",
       "}\n",
       "\n",
       "p {\n",
       "  margin-top: 0 !important; }\n",
       "  \n",
       "a {\n",
       "  color: #1EAEDB !important; }\n",
       "a:hover {\n",
       "  color: #0FA0CE !important; }\n",
       "  \n",
       "code {\n",
       "  padding: .2rem .5rem !important;\n",
       "  margin: 0 .2rem !important;\n",
       "  font-size: 90% !important;\n",
       "  white-space: nowrap !important;\n",
       "  background: #F1F1F1 !important;\n",
       "  border: 1px solid #E1E1E1 !important;\n",
       "  border-radius: 4px !important; }\n",
       "pre > code {\n",
       "  display: block !important;\n",
       "  padding: 1rem 1.5rem !important;\n",
       "  white-space: pre !important; }\n",
       "  \n",
       "button{ border-radius: 0px !important; }\n",
       ".navbar-inner{ background-image: none !important;  }\n",
       "select, textarea{ border-radius: 0px !important; }\n",
       "\n",
       "</style>"
      ],
      "text/plain": [
       "<IPython.core.display.HTML object>"
      ]
     },
     "execution_count": 21,
     "metadata": {},
     "output_type": "execute_result"
    }
   ],
   "source": [
    "from IPython.core.display import HTML\n",
    "import urllib2\n",
    "HTML(urllib2.urlopen('http://bit.ly/1Bf5Hft').read())"
   ]
  },
  {
   "cell_type": "markdown",
   "metadata": {
    "collapsed": true
   },
   "source": [
    "### Conclusions\n",
    "\n",
    "There are clearly some limitations to the dataset. Only having data from August makes it extremely difficult to model the data over time and examine trends. Also, since the data is limited, examining certain statistics may be deceiving. An example of this was presented above when observing the mean arrival delay based on origin and destination state. Taking the mean of one data point will not tell you much about a how particular airline may be performing overall at these locations. \n",
    "\n",
    "Despite these complications, there were definitely some interesting results derived from the data. Since airlines are so susceptible to any sort event that may occur, you can derive these events from the data by examining how different airlines are affected. Seeing some sort of commonality would imply an event. Another interesting result was how distance correlates with arrival delay. This would seem to imply that airlines are not taking full advantage of potential speed increases. It would be interesting to explore the full dataset and see what more information could be derived."
   ]
  }
 ],
 "metadata": {
  "kernelspec": {
   "display_name": "Python 2",
   "language": "python",
   "name": "python2"
  },
  "language_info": {
   "codemirror_mode": {
    "name": "ipython",
    "version": 2
   },
   "file_extension": ".py",
   "mimetype": "text/x-python",
   "name": "python",
   "nbconvert_exporter": "python",
   "pygments_lexer": "ipython2",
   "version": "2.7.11"
  }
 },
 "nbformat": 4,
 "nbformat_minor": 0
}
